{
  "nbformat": 4,
  "nbformat_minor": 0,
  "metadata": {
    "colab": {
      "name": "craw.ipynb",
      "provenance": [],
      "collapsed_sections": [],
      "authorship_tag": "ABX9TyOKPRBPVT+20iSCWnYj9C9a",
      "include_colab_link": true
    },
    "kernelspec": {
      "name": "python3",
      "display_name": "Python 3"
    }
  },
  "cells": [
    {
      "cell_type": "markdown",
      "metadata": {
        "id": "view-in-github",
        "colab_type": "text"
      },
      "source": [
        "<a href=\"https://colab.research.google.com/github/BaekTree/bookDataAnalysis/blob/master/craw.ipynb\" target=\"_parent\"><img src=\"https://colab.research.google.com/assets/colab-badge.svg\" alt=\"Open In Colab\"/></a>"
      ]
    },
    {
      "cell_type": "code",
      "metadata": {
        "colab": {
          "base_uri": "https://localhost:8080/"
        },
        "id": "YHnpN8IbUAuX",
        "outputId": "5af31b07-def1-45ca-b511-e9fc2c98f190"
      },
      "source": [
        "!pip install selenium\n",
        "!apt-get update \n",
        "!apt install chromium-chromedriver\n",
        "!cp /usr/lib/chromium-browser/chromedriver /usr/bin\n",
        "\n"
      ],
      "execution_count": 1,
      "outputs": [
        {
          "output_type": "stream",
          "text": [
            "Collecting selenium\n",
            "\u001b[?25l  Downloading https://files.pythonhosted.org/packages/80/d6/4294f0b4bce4de0abf13e17190289f9d0613b0a44e5dd6a7f5ca98459853/selenium-3.141.0-py2.py3-none-any.whl (904kB)\n",
            "\r\u001b[K     |▍                               | 10kB 16.6MB/s eta 0:00:01\r\u001b[K     |▊                               | 20kB 24.0MB/s eta 0:00:01\r\u001b[K     |█                               | 30kB 19.0MB/s eta 0:00:01\r\u001b[K     |█▌                              | 40kB 15.8MB/s eta 0:00:01\r\u001b[K     |█▉                              | 51kB 16.8MB/s eta 0:00:01\r\u001b[K     |██▏                             | 61kB 15.2MB/s eta 0:00:01\r\u001b[K     |██▌                             | 71kB 12.9MB/s eta 0:00:01\r\u001b[K     |███                             | 81kB 12.5MB/s eta 0:00:01\r\u001b[K     |███▎                            | 92kB 12.0MB/s eta 0:00:01\r\u001b[K     |███▋                            | 102kB 12.1MB/s eta 0:00:01\r\u001b[K     |████                            | 112kB 12.1MB/s eta 0:00:01\r\u001b[K     |████▍                           | 122kB 12.1MB/s eta 0:00:01\r\u001b[K     |████▊                           | 133kB 12.1MB/s eta 0:00:01\r\u001b[K     |█████                           | 143kB 12.1MB/s eta 0:00:01\r\u001b[K     |█████▍                          | 153kB 12.1MB/s eta 0:00:01\r\u001b[K     |█████▉                          | 163kB 12.1MB/s eta 0:00:01\r\u001b[K     |██████▏                         | 174kB 12.1MB/s eta 0:00:01\r\u001b[K     |██████▌                         | 184kB 12.1MB/s eta 0:00:01\r\u001b[K     |██████▉                         | 194kB 12.1MB/s eta 0:00:01\r\u001b[K     |███████▎                        | 204kB 12.1MB/s eta 0:00:01\r\u001b[K     |███████▋                        | 215kB 12.1MB/s eta 0:00:01\r\u001b[K     |████████                        | 225kB 12.1MB/s eta 0:00:01\r\u001b[K     |████████▎                       | 235kB 12.1MB/s eta 0:00:01\r\u001b[K     |████████▊                       | 245kB 12.1MB/s eta 0:00:01\r\u001b[K     |█████████                       | 256kB 12.1MB/s eta 0:00:01\r\u001b[K     |█████████▍                      | 266kB 12.1MB/s eta 0:00:01\r\u001b[K     |█████████▉                      | 276kB 12.1MB/s eta 0:00:01\r\u001b[K     |██████████▏                     | 286kB 12.1MB/s eta 0:00:01\r\u001b[K     |██████████▌                     | 296kB 12.1MB/s eta 0:00:01\r\u001b[K     |██████████▉                     | 307kB 12.1MB/s eta 0:00:01\r\u001b[K     |███████████▎                    | 317kB 12.1MB/s eta 0:00:01\r\u001b[K     |███████████▋                    | 327kB 12.1MB/s eta 0:00:01\r\u001b[K     |████████████                    | 337kB 12.1MB/s eta 0:00:01\r\u001b[K     |████████████▎                   | 348kB 12.1MB/s eta 0:00:01\r\u001b[K     |████████████▊                   | 358kB 12.1MB/s eta 0:00:01\r\u001b[K     |█████████████                   | 368kB 12.1MB/s eta 0:00:01\r\u001b[K     |█████████████▍                  | 378kB 12.1MB/s eta 0:00:01\r\u001b[K     |█████████████▊                  | 389kB 12.1MB/s eta 0:00:01\r\u001b[K     |██████████████▏                 | 399kB 12.1MB/s eta 0:00:01\r\u001b[K     |██████████████▌                 | 409kB 12.1MB/s eta 0:00:01\r\u001b[K     |██████████████▉                 | 419kB 12.1MB/s eta 0:00:01\r\u001b[K     |███████████████▏                | 430kB 12.1MB/s eta 0:00:01\r\u001b[K     |███████████████▋                | 440kB 12.1MB/s eta 0:00:01\r\u001b[K     |████████████████                | 450kB 12.1MB/s eta 0:00:01\r\u001b[K     |████████████████▎               | 460kB 12.1MB/s eta 0:00:01\r\u001b[K     |████████████████▋               | 471kB 12.1MB/s eta 0:00:01\r\u001b[K     |█████████████████               | 481kB 12.1MB/s eta 0:00:01\r\u001b[K     |█████████████████▍              | 491kB 12.1MB/s eta 0:00:01\r\u001b[K     |█████████████████▊              | 501kB 12.1MB/s eta 0:00:01\r\u001b[K     |██████████████████▏             | 512kB 12.1MB/s eta 0:00:01\r\u001b[K     |██████████████████▌             | 522kB 12.1MB/s eta 0:00:01\r\u001b[K     |██████████████████▉             | 532kB 12.1MB/s eta 0:00:01\r\u001b[K     |███████████████████▏            | 542kB 12.1MB/s eta 0:00:01\r\u001b[K     |███████████████████▋            | 552kB 12.1MB/s eta 0:00:01\r\u001b[K     |████████████████████            | 563kB 12.1MB/s eta 0:00:01\r\u001b[K     |████████████████████▎           | 573kB 12.1MB/s eta 0:00:01\r\u001b[K     |████████████████████▋           | 583kB 12.1MB/s eta 0:00:01\r\u001b[K     |█████████████████████           | 593kB 12.1MB/s eta 0:00:01\r\u001b[K     |█████████████████████▍          | 604kB 12.1MB/s eta 0:00:01\r\u001b[K     |█████████████████████▊          | 614kB 12.1MB/s eta 0:00:01\r\u001b[K     |██████████████████████          | 624kB 12.1MB/s eta 0:00:01\r\u001b[K     |██████████████████████▌         | 634kB 12.1MB/s eta 0:00:01\r\u001b[K     |██████████████████████▉         | 645kB 12.1MB/s eta 0:00:01\r\u001b[K     |███████████████████████▏        | 655kB 12.1MB/s eta 0:00:01\r\u001b[K     |███████████████████████▌        | 665kB 12.1MB/s eta 0:00:01\r\u001b[K     |████████████████████████        | 675kB 12.1MB/s eta 0:00:01\r\u001b[K     |████████████████████████▎       | 686kB 12.1MB/s eta 0:00:01\r\u001b[K     |████████████████████████▋       | 696kB 12.1MB/s eta 0:00:01\r\u001b[K     |█████████████████████████       | 706kB 12.1MB/s eta 0:00:01\r\u001b[K     |█████████████████████████▍      | 716kB 12.1MB/s eta 0:00:01\r\u001b[K     |█████████████████████████▊      | 727kB 12.1MB/s eta 0:00:01\r\u001b[K     |██████████████████████████      | 737kB 12.1MB/s eta 0:00:01\r\u001b[K     |██████████████████████████▍     | 747kB 12.1MB/s eta 0:00:01\r\u001b[K     |██████████████████████████▉     | 757kB 12.1MB/s eta 0:00:01\r\u001b[K     |███████████████████████████▏    | 768kB 12.1MB/s eta 0:00:01\r\u001b[K     |███████████████████████████▌    | 778kB 12.1MB/s eta 0:00:01\r\u001b[K     |████████████████████████████    | 788kB 12.1MB/s eta 0:00:01\r\u001b[K     |████████████████████████████▎   | 798kB 12.1MB/s eta 0:00:01\r\u001b[K     |████████████████████████████▋   | 808kB 12.1MB/s eta 0:00:01\r\u001b[K     |█████████████████████████████   | 819kB 12.1MB/s eta 0:00:01\r\u001b[K     |█████████████████████████████▍  | 829kB 12.1MB/s eta 0:00:01\r\u001b[K     |█████████████████████████████▊  | 839kB 12.1MB/s eta 0:00:01\r\u001b[K     |██████████████████████████████  | 849kB 12.1MB/s eta 0:00:01\r\u001b[K     |██████████████████████████████▍ | 860kB 12.1MB/s eta 0:00:01\r\u001b[K     |██████████████████████████████▉ | 870kB 12.1MB/s eta 0:00:01\r\u001b[K     |███████████████████████████████▏| 880kB 12.1MB/s eta 0:00:01\r\u001b[K     |███████████████████████████████▌| 890kB 12.1MB/s eta 0:00:01\r\u001b[K     |███████████████████████████████▉| 901kB 12.1MB/s eta 0:00:01\r\u001b[K     |████████████████████████████████| 911kB 12.1MB/s \n",
            "\u001b[?25hRequirement already satisfied: urllib3 in /usr/local/lib/python3.6/dist-packages (from selenium) (1.24.3)\n",
            "Installing collected packages: selenium\n",
            "Successfully installed selenium-3.141.0\n",
            "Get:1 http://ppa.launchpad.net/c2d4u.team/c2d4u4.0+/ubuntu bionic InRelease [15.9 kB]\n",
            "Get:2 http://security.ubuntu.com/ubuntu bionic-security InRelease [88.7 kB]\n",
            "Hit:3 http://archive.ubuntu.com/ubuntu bionic InRelease\n",
            "Get:4 http://archive.ubuntu.com/ubuntu bionic-updates InRelease [88.7 kB]\n",
            "Get:5 https://cloud.r-project.org/bin/linux/ubuntu bionic-cran40/ InRelease [3,626 B]\n",
            "Hit:6 http://ppa.launchpad.net/cran/libgit2/ubuntu bionic InRelease\n",
            "Hit:7 http://ppa.launchpad.net/graphics-drivers/ppa/ubuntu bionic InRelease\n",
            "Get:8 http://archive.ubuntu.com/ubuntu bionic-backports InRelease [74.6 kB]\n",
            "Ign:9 https://developer.download.nvidia.com/compute/cuda/repos/ubuntu1804/x86_64  InRelease\n",
            "Ign:10 https://developer.download.nvidia.com/compute/machine-learning/repos/ubuntu1804/x86_64  InRelease\n",
            "Get:11 https://developer.download.nvidia.com/compute/cuda/repos/ubuntu1804/x86_64  Release [697 B]\n",
            "Hit:12 https://developer.download.nvidia.com/compute/machine-learning/repos/ubuntu1804/x86_64  Release\n",
            "Get:13 http://ppa.launchpad.net/c2d4u.team/c2d4u4.0+/ubuntu bionic/main Sources [1,714 kB]\n",
            "Get:14 https://developer.download.nvidia.com/compute/cuda/repos/ubuntu1804/x86_64  Release.gpg [836 B]\n",
            "Get:15 http://ppa.launchpad.net/c2d4u.team/c2d4u4.0+/ubuntu bionic/main amd64 Packages [877 kB]\n",
            "Get:16 http://security.ubuntu.com/ubuntu bionic-security/universe amd64 Packages [1,381 kB]\n",
            "Get:17 http://security.ubuntu.com/ubuntu bionic-security/main amd64 Packages [1,890 kB]\n",
            "Get:18 http://archive.ubuntu.com/ubuntu bionic-updates/universe amd64 Packages [2,148 kB]\n",
            "Get:19 http://archive.ubuntu.com/ubuntu bionic-updates/main amd64 Packages [2,310 kB]\n",
            "Ign:21 https://developer.download.nvidia.com/compute/cuda/repos/ubuntu1804/x86_64  Packages\n",
            "Get:21 https://developer.download.nvidia.com/compute/cuda/repos/ubuntu1804/x86_64  Packages [548 kB]\n",
            "Fetched 11.1 MB in 3s (4,246 kB/s)\n",
            "Reading package lists... Done\n",
            "Reading package lists... Done\n",
            "Building dependency tree       \n",
            "Reading state information... Done\n",
            "The following additional packages will be installed:\n",
            "  chromium-browser chromium-browser-l10n chromium-codecs-ffmpeg-extra\n",
            "Suggested packages:\n",
            "  webaccounts-chromium-extension unity-chromium-extension adobe-flashplugin\n",
            "The following NEW packages will be installed:\n",
            "  chromium-browser chromium-browser-l10n chromium-chromedriver\n",
            "  chromium-codecs-ffmpeg-extra\n",
            "0 upgraded, 4 newly installed, 0 to remove and 50 not upgraded.\n",
            "Need to get 81.0 MB of archives.\n",
            "After this operation, 273 MB of additional disk space will be used.\n",
            "Get:1 http://archive.ubuntu.com/ubuntu bionic-updates/universe amd64 chromium-codecs-ffmpeg-extra amd64 87.0.4280.66-0ubuntu0.18.04.1 [1,122 kB]\n",
            "Get:2 http://archive.ubuntu.com/ubuntu bionic-updates/universe amd64 chromium-browser amd64 87.0.4280.66-0ubuntu0.18.04.1 [71.7 MB]\n",
            "Get:3 http://archive.ubuntu.com/ubuntu bionic-updates/universe amd64 chromium-browser-l10n all 87.0.4280.66-0ubuntu0.18.04.1 [3,716 kB]\n",
            "Get:4 http://archive.ubuntu.com/ubuntu bionic-updates/universe amd64 chromium-chromedriver amd64 87.0.4280.66-0ubuntu0.18.04.1 [4,488 kB]\n",
            "Fetched 81.0 MB in 2s (54.0 MB/s)\n",
            "Selecting previously unselected package chromium-codecs-ffmpeg-extra.\n",
            "(Reading database ... 146364 files and directories currently installed.)\n",
            "Preparing to unpack .../chromium-codecs-ffmpeg-extra_87.0.4280.66-0ubuntu0.18.04.1_amd64.deb ...\n",
            "Unpacking chromium-codecs-ffmpeg-extra (87.0.4280.66-0ubuntu0.18.04.1) ...\n",
            "Selecting previously unselected package chromium-browser.\n",
            "Preparing to unpack .../chromium-browser_87.0.4280.66-0ubuntu0.18.04.1_amd64.deb ...\n",
            "Unpacking chromium-browser (87.0.4280.66-0ubuntu0.18.04.1) ...\n",
            "Selecting previously unselected package chromium-browser-l10n.\n",
            "Preparing to unpack .../chromium-browser-l10n_87.0.4280.66-0ubuntu0.18.04.1_all.deb ...\n",
            "Unpacking chromium-browser-l10n (87.0.4280.66-0ubuntu0.18.04.1) ...\n",
            "Selecting previously unselected package chromium-chromedriver.\n",
            "Preparing to unpack .../chromium-chromedriver_87.0.4280.66-0ubuntu0.18.04.1_amd64.deb ...\n",
            "Unpacking chromium-chromedriver (87.0.4280.66-0ubuntu0.18.04.1) ...\n",
            "Setting up chromium-codecs-ffmpeg-extra (87.0.4280.66-0ubuntu0.18.04.1) ...\n",
            "Setting up chromium-browser (87.0.4280.66-0ubuntu0.18.04.1) ...\n",
            "update-alternatives: using /usr/bin/chromium-browser to provide /usr/bin/x-www-browser (x-www-browser) in auto mode\n",
            "update-alternatives: using /usr/bin/chromium-browser to provide /usr/bin/gnome-www-browser (gnome-www-browser) in auto mode\n",
            "Setting up chromium-chromedriver (87.0.4280.66-0ubuntu0.18.04.1) ...\n",
            "Setting up chromium-browser-l10n (87.0.4280.66-0ubuntu0.18.04.1) ...\n",
            "Processing triggers for hicolor-icon-theme (0.17-2) ...\n",
            "Processing triggers for mime-support (3.60ubuntu1) ...\n",
            "Processing triggers for man-db (2.8.3-2ubuntu0.1) ...\n",
            "cp: '/usr/lib/chromium-browser/chromedriver' and '/usr/bin/chromedriver' are the same file\n"
          ],
          "name": "stdout"
        }
      ]
    },
    {
      "cell_type": "code",
      "metadata": {
        "id": "viNVMvA4XSjY"
      },
      "source": [
        "import sys\n",
        "sys.path.insert(0,'/usr/lib/chromium-browser/chromedriver')\n",
        "from selenium import webdriver\n",
        "import time\n",
        "import requests\n",
        "import pandas as pd\n",
        "from pandas import DataFrame\n",
        "import random"
      ],
      "execution_count": 24,
      "outputs": []
    },
    {
      "cell_type": "code",
      "metadata": {
        "colab": {
          "base_uri": "https://localhost:8080/"
        },
        "id": "OEDNG12dUWfO",
        "outputId": "dea74d41-d2b7-4457-de95-86704999ff4b"
      },
      "source": [
        "chrome_options = webdriver.ChromeOptions()\n",
        "chrome_options.add_argument('--headless')\n",
        "chrome_options.add_argument('--no-sandbox')\n",
        "chrome_options.add_argument('--disable-dev-shm-usage')\n",
        "s =webdriver.Chrome('chromedriver',chrome_options=chrome_options)"
      ],
      "execution_count": 3,
      "outputs": [
        {
          "output_type": "stream",
          "text": [
            "/usr/local/lib/python3.6/dist-packages/ipykernel_launcher.py:5: DeprecationWarning: use options instead of chrome_options\n",
            "  \"\"\"\n"
          ],
          "name": "stderr"
        }
      ]
    },
    {
      "cell_type": "code",
      "metadata": {
        "id": "EFqMgoIvbqti"
      },
      "source": [
        "def fillSearch(start_mon, end_mon):\n",
        "  s.get(\"http://www.g2b.go.kr/pt/menu/selectSubFrame.do?framesrc=/pt/menu/frameTgong.do?url=http://www.g2b.go.kr:8101/ep/tbid/tbidFwd.do?bidSearchType=1\")\n",
        "  frames=s.find_element_by_css_selector('#sub')\n",
        "  f_name=frames.get_attribute('name')\n",
        "  s.switch_to.frame(f_name)\n",
        "\n",
        "  frames=s.find_element_by_css_selector('html > frameset > frame:nth-child(2)')\n",
        "\n",
        "  s.switch_to.frame('main')\n",
        "\n",
        "  typeBtn=s.find_element_by_xpath('//*[@id=\"bidSearchType2\"]')\n",
        "  typeBtn.click()\n",
        "\n",
        "  workBtn=s.find_element_by_css_selector('#search > table > tbody > tr:nth-child(2) > td > div > label:nth-child(4)')\n",
        "  workBtn.click()\n",
        "\n",
        "  startDate=s.find_element_by_css_selector('#fromOpenBidDt')\n",
        "  startDate.click()\n",
        "  startDate.clear()\n",
        "  startDate.send_keys(start_mon)\n",
        "\n",
        "  endDate=s.find_element_by_css_selector('#toOpenBidDt')\n",
        "  endDate.click()\n",
        "  endDate.clear()\n",
        "  endDate.send_keys(end_mon)\n",
        "\n",
        "  s.find_element_by_xpath('//*[@id=\"area\"]/option[@value=\"41\"]').click()\n",
        "\n",
        "  s.find_element_by_xpath('//*[@id=\"recordCountPerPage\"]/option[@value=\"100\"]').click()\n",
        "\n",
        "  num=s.find_element_by_css_selector('#detailPrdnmNo')\n",
        "  num.send_keys('5510151001')\n",
        "  srchBtn=s.find_element_by_css_selector('#buttonwrap > div > a:nth-child(1)')\n",
        "  srchBtn.click()\n",
        "  "
      ],
      "execution_count": 21,
      "outputs": []
    },
    {
      "cell_type": "code",
      "metadata": {
        "id": "74bV8DWCc2Yc"
      },
      "source": [
        "def crawl():\n",
        "  \n",
        "\n",
        "  tBody=s.find_elements_by_xpath('//*[@id=\"container\"]/div[2]/table/tbody/tr')\n",
        "\n",
        "  start_url='http://www.g2b.go.kr:8101/ep/result/prodBidResultDtl.do'\n",
        "  # result_page = s.page_source\n",
        "  ans_list = []\n",
        "  tb_list = []\n",
        "  for i in range(len(tBody)):\n",
        "    print(i)\n",
        "    css_slt=\"#container > div.results > table > tbody > tr:nth-child(\"+str(i+1)+\") > td:nth-child(11) > div > a\"\n",
        "    # print(css_slt)\n",
        "    dtlBtn=s.find_element_by_css_selector(css_slt)\n",
        "    if dtlBtn.text == \"개찰완료\":\n",
        "        r_num = random.randrange(1,6)\n",
        "        time.sleep(3 + r_num)\n",
        "        ans = dtlBtn.get_attribute('href')\n",
        "        s_idx=ans.find('(')\n",
        "        f_idx=ans.find(')')\n",
        "        ans=ans[s_idx+1:f_idx].split(', ')\n",
        "        temp = []\n",
        "        for st in ans:\n",
        "            removed = st.replace(\"\\'\", \"\")\n",
        "            temp.append(removed)\n",
        "        ans = temp\n",
        "        # print(ans)\n",
        "        ans_list.append(ans)\n",
        "\n",
        "        # done=\"개찰완료\".encode('euc-kr').decode('utf8')\n",
        "        done=\"개찰완료\".encode('euc-kr')\n",
        "        payload={\"bidno\": ans[1], \"bidseq\": ans[2], \"bidcate\" : ans[3], \"rebidno\": ans[4], \"progressInfo\": done}\n",
        "        # payload={'bidno': '20160514664', 'bidseq': '00', 'bidcate' : '0', 'rebidno': '0', 'progressInfo': done}\n",
        "        # print(payload)\n",
        "        # print({'bidno': '20160514664', 'bidseq': '00', 'bidcate' : '0', 'rebidno': '0', 'progressInfo': done})\n",
        "        # print(\"-----------------------------\\n\\n\" + json.dumps(payload) + \"-----------------------------\\n\\n\")\n",
        "        response = requests.post(start_url, data=payload)\n",
        "        # print(response.text)\n",
        "        tb=pd.read_html(response.text)\n",
        "        # print(type(tb))\n",
        "        print(len(tb))\n",
        "        df=tb[1]\n",
        "        df.head()\n",
        "        tb_list.append(df)\n",
        "        # df.to_csv('./tb.csv',sep=',')\n",
        "        # print(tb[1])\n",
        "        # print(response.text)\n",
        "        # break\n",
        "        # s.back()\n",
        "  print(\"done!\")"
      ],
      "execution_count": 16,
      "outputs": []
    },
    {
      "cell_type": "code",
      "metadata": {
        "id": "pTOVSpIMUNO1"
      },
      "source": [
        "st=\"2020/01/01\"\n",
        "end=\"2020/02/01\""
      ],
      "execution_count": 22,
      "outputs": []
    },
    {
      "cell_type": "code",
      "metadata": {
        "id": "4SWVJExniaeS"
      },
      "source": [
        "def init():\n",
        "  fillSearch(st, end)\n",
        "  crawl()"
      ],
      "execution_count": 19,
      "outputs": []
    },
    {
      "cell_type": "code",
      "metadata": {
        "colab": {
          "base_uri": "https://localhost:8080/"
        },
        "id": "yplQeD9zXknd",
        "outputId": "cf7a1002-f72f-4aeb-8302-16f184158c7c"
      },
      "source": [
        "fillSearch(st, end)"
      ],
      "execution_count": 15,
      "outputs": [
        {
          "output_type": "stream",
          "text": [
            "0\n",
            "1\n",
            "2\n",
            "3\n",
            "4\n",
            "5\n",
            "6\n",
            "7\n",
            "8\n",
            "done!\n"
          ],
          "name": "stdout"
        }
      ]
    },
    {
      "cell_type": "code",
      "metadata": {
        "colab": {
          "base_uri": "https://localhost:8080/"
        },
        "id": "Npm2E-sWh6jQ",
        "outputId": "10281db5-9776-4899-ac4c-d16b7346172a"
      },
      "source": [
        "## test\n",
        "fillSearch(st, end)\n",
        "tBody=s.find_elements_by_xpath('//*[@id=\"container\"]/div[2]/table/tbody/tr')\n",
        "\n",
        "start_url='http://www.g2b.go.kr:8101/ep/result/prodBidResultDtl.do'\n",
        "# result_page = s.page_source\n",
        "ans_list = []\n",
        "tb_list = []\n",
        "for i in range(len(tBody)):\n",
        "  print(i)\n",
        "  css_slt=\"#container > div.results > table > tbody > tr:nth-child(\"+str(i+1)+\") > td:nth-child(11) > div > a\"\n",
        "  # print(css_slt)\n",
        "  dtlBtn=s.find_element_by_css_selector(css_slt)\n",
        "  if dtlBtn.text == \"개찰완료\":\n",
        "      r_num = random.randrange(1,6)\n",
        "      time.sleep(3 + r_num)\n",
        "      ans = dtlBtn.get_attribute('href')\n",
        "      s_idx=ans.find('(')\n",
        "      f_idx=ans.find(')')\n",
        "      ans=ans[s_idx+1:f_idx].split(', ')\n",
        "      temp = []\n",
        "      for st in ans:\n",
        "          removed = st.replace(\"\\'\", \"\")\n",
        "          temp.append(removed)\n",
        "      ans = temp\n",
        "      # print(ans)\n",
        "      ans_list.append(ans)\n",
        "\n",
        "      # done=\"개찰완료\".encode('euc-kr').decode('utf8')\n",
        "      done=\"개찰완료\".encode('euc-kr')\n",
        "      payload={\"bidno\": ans[1], \"bidseq\": ans[2], \"bidcate\" : ans[3], \"rebidno\": ans[4], \"progressInfo\": done}\n",
        "      # payload={'bidno': '20160514664', 'bidseq': '00', 'bidcate' : '0', 'rebidno': '0', 'progressInfo': done}\n",
        "      # print(payload)\n",
        "      # print({'bidno': '20160514664', 'bidseq': '00', 'bidcate' : '0', 'rebidno': '0', 'progressInfo': done})\n",
        "      # print(\"-----------------------------\\n\\n\" + json.dumps(payload) + \"-----------------------------\\n\\n\")\n",
        "      response = requests.post(start_url, data=payload)\n",
        "      # print(response.text)\n",
        "      tb=pd.read_html(response.text)\n",
        "      # print(type(tb))\n",
        "      print(tb)\n",
        "      df=tb[1]\n",
        "      df.head()\n",
        "      tb_list.append(df)\n",
        "      # df.to_csv('./tb.csv',sep=',')\n",
        "      # print(tb[1])\n",
        "      # print(response.text)\n",
        "      break\n",
        "      # s.back()"
      ],
      "execution_count": 25,
      "outputs": [
        {
          "output_type": "stream",
          "text": [
            "0\n",
            "[        0  ...                                                  3\n",
            "0  입찰공고번호  ...                                            Z026650\n",
            "1     공고명  ...                       2020년 해밀도서관 도서(비도서 포함) 연간 구입\n",
            "2    공고기관  ...                                              해밀도서관\n",
            "3   공고담당자  ...                                                김세결\n",
            "4  실제개찰일시  ...                                                보 기\n",
            "5  적격심사결과  ...                                                NaN\n",
            "6    유의사항  ...  ㅁ 사전판정 과정에서 부적격 처리된 업체의 투찰금액과 투찰률은 표시되지 않습니다. ...\n",
            "\n",
            "[7 rows x 4 columns],    순위     사업자등록번호    업체명  대표자   투찰금액(원)  투찰률(%)   추첨번호                 투찰일시  비고\n",
            "0   1  7262000134    책소리  박상기  29280000  73.477  13 10  2020/01/26 16:09:39 NaN\n",
            "1   2  1304677114    희망북  안정훈  29600000  74.280  08 03  2020/01/20 20:54:42 NaN\n",
            "2   3  1300594240   하나서적  정상구  32400000  81.306  01 09  2020/01/20 08:48:49 NaN\n",
            "3   4  1302626316  신원종서점  이상석  33644000  84.428  07 14  2020/01/28 09:43:13 NaN\n",
            "4   5  2133200058   제일문고  이영자  36148000  90.711  03 09  2020/01/27 15:54:45 NaN\n",
            "5   6  1304693147    스마일  김경숙  36162400  90.748  12 10  2020/01/19 12:30:59 NaN]\n"
          ],
          "name": "stdout"
        }
      ]
    },
    {
      "cell_type": "code",
      "metadata": {
        "colab": {
          "base_uri": "https://localhost:8080/",
          "height": 368
        },
        "id": "R-WBRwNwi2eN",
        "outputId": "4f886fcf-9ae9-41c0-c97a-b325a6f0ef9c"
      },
      "source": [
        "info = tb[0]\n",
        "sup_name = info.iloc[2][1]\n",
        "dmd_name = info.iloc[2][3]\n",
        "print(sup_name)\n",
        "print(dmd_name)\n",
        "info\n",
        "# info = info.T\n",
        "# # info.iloc[0]\n",
        "# info.columns = info.iloc[0]\n",
        "# info = info.drop(info.index[0])\n",
        "# # info.iloc[0]\n",
        "# info"
      ],
      "execution_count": 60,
      "outputs": [
        {
          "output_type": "stream",
          "text": [
            "해밀도서관\n",
            "해밀도서관\n"
          ],
          "name": "stdout"
        },
        {
          "output_type": "execute_result",
          "data": {
            "text/html": [
              "<div>\n",
              "<style scoped>\n",
              "    .dataframe tbody tr th:only-of-type {\n",
              "        vertical-align: middle;\n",
              "    }\n",
              "\n",
              "    .dataframe tbody tr th {\n",
              "        vertical-align: top;\n",
              "    }\n",
              "\n",
              "    .dataframe thead th {\n",
              "        text-align: right;\n",
              "    }\n",
              "</style>\n",
              "<table border=\"1\" class=\"dataframe\">\n",
              "  <thead>\n",
              "    <tr style=\"text-align: right;\">\n",
              "      <th></th>\n",
              "      <th>0</th>\n",
              "      <th>1</th>\n",
              "      <th>2</th>\n",
              "      <th>3</th>\n",
              "    </tr>\n",
              "  </thead>\n",
              "  <tbody>\n",
              "    <tr>\n",
              "      <th>0</th>\n",
              "      <td>입찰공고번호</td>\n",
              "      <td>20200111888-00  공고상세</td>\n",
              "      <td>참조번호</td>\n",
              "      <td>Z026650</td>\n",
              "    </tr>\n",
              "    <tr>\n",
              "      <th>1</th>\n",
              "      <td>공고명</td>\n",
              "      <td>2020년 해밀도서관 도서(비도서 포함) 연간 구입</td>\n",
              "      <td>2020년 해밀도서관 도서(비도서 포함) 연간 구입</td>\n",
              "      <td>2020년 해밀도서관 도서(비도서 포함) 연간 구입</td>\n",
              "    </tr>\n",
              "    <tr>\n",
              "      <th>2</th>\n",
              "      <td>공고기관</td>\n",
              "      <td>해밀도서관</td>\n",
              "      <td>수요기관</td>\n",
              "      <td>해밀도서관</td>\n",
              "    </tr>\n",
              "    <tr>\n",
              "      <th>3</th>\n",
              "      <td>공고담당자</td>\n",
              "      <td>김세결  (032-650-4652)</td>\n",
              "      <td>집행관</td>\n",
              "      <td>김세결</td>\n",
              "    </tr>\n",
              "    <tr>\n",
              "      <th>4</th>\n",
              "      <td>실제개찰일시</td>\n",
              "      <td>2020/01/29 14:37</td>\n",
              "      <td>복수예비가 및예정가격</td>\n",
              "      <td>보 기</td>\n",
              "    </tr>\n",
              "    <tr>\n",
              "      <th>5</th>\n",
              "      <td>적격심사결과</td>\n",
              "      <td>NaN</td>\n",
              "      <td>NaN</td>\n",
              "      <td>NaN</td>\n",
              "    </tr>\n",
              "    <tr>\n",
              "      <th>6</th>\n",
              "      <td>유의사항</td>\n",
              "      <td>ㅁ 사전판정 과정에서 부적격 처리된 업체의 투찰금액과 투찰률은 표시되지 않습니다. ...</td>\n",
              "      <td>ㅁ 사전판정 과정에서 부적격 처리된 업체의 투찰금액과 투찰률은 표시되지 않습니다. ...</td>\n",
              "      <td>ㅁ 사전판정 과정에서 부적격 처리된 업체의 투찰금액과 투찰률은 표시되지 않습니다. ...</td>\n",
              "    </tr>\n",
              "  </tbody>\n",
              "</table>\n",
              "</div>"
            ],
            "text/plain": [
              "        0  ...                                                  3\n",
              "0  입찰공고번호  ...                                            Z026650\n",
              "1     공고명  ...                       2020년 해밀도서관 도서(비도서 포함) 연간 구입\n",
              "2    공고기관  ...                                              해밀도서관\n",
              "3   공고담당자  ...                                                김세결\n",
              "4  실제개찰일시  ...                                                보 기\n",
              "5  적격심사결과  ...                                                NaN\n",
              "6    유의사항  ...  ㅁ 사전판정 과정에서 부적격 처리된 업체의 투찰금액과 투찰률은 표시되지 않습니다. ...\n",
              "\n",
              "[7 rows x 4 columns]"
            ]
          },
          "metadata": {
            "tags": []
          },
          "execution_count": 60
        }
      ]
    }
  ]
}